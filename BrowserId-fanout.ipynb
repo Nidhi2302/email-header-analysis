{
 "cells": [
  {
   "cell_type": "markdown",
   "metadata": {},
   "source": [
    "#                                        BrowserID Fanout"
   ]
  },
  {
   "cell_type": "code",
   "execution_count": null,
   "metadata": {},
   "outputs": [],
   "source": [
    "print('Please wait. Installing required packages. This may take a few minutes...')\n",
    "!pip install Kqlmagic --no-cache-dir --upgrade"
   ]
  },
  {
   "cell_type": "markdown",
   "metadata": {},
   "source": [
    "<a id='connect-to-la'></a>\n",
    "## Connect to Kusto Database\n",
    "This is required to read the tables in your kusto data source. "
   ]
  },
  {
   "cell_type": "code",
   "execution_count": null,
   "metadata": {},
   "outputs": [],
   "source": [
    "%reload_ext Kqlmagic\n",
    "%kql azure_data-Explorer://code;cluster='estsch1';database='ESTS'"
   ]
  },
  {
   "cell_type": "markdown",
   "metadata": {},
   "source": [
    "<a id='user-input'></a>\n",
    "## Enter Tenant Information "
   ]
  },
  {
   "cell_type": "code",
   "execution_count": null,
   "metadata": {},
   "outputs": [],
   "source": [
    "from datetime import date\n",
    "import ipywidgets as widgets\n",
    "from IPython.display import display\n",
    "import pandas as pd  \n",
    "from pandas import ExcelWriter\n",
    "\n",
    "print('Enter Tenant Id [Format=> \"<tenant-id>\", multiple-tenant-id: \"<tenant-id1>\",\"<tenant-id2>\"]:')\n",
    "TenantId = input().strip()\n",
    "print()\n",
    "\n",
    "print(\"Enter total days to retrive ESTS logs, It sholud not be more than 60:\")\n",
    "total_days = input().strip()\n",
    "print()\n",
    "if int(total_days) > 60:\n",
    "    print(\"Enter total days to retrive ESTS logs, It sholud not be more than 60:\")\n",
    "    total_days = input().strip()\n",
    "    print()\n",
    "if not TenantId or not total_days:\n",
    "    raise Exception(\"Error: tenant id and days could not be empty.\")"
   ]
  },
  {
   "cell_type": "markdown",
   "metadata": {},
   "source": [
    "This kusto query will divide total days by 5 and run for 5-5 days. After completion of below cell , you will see \"browserid_list.csv\" file inside your project which is containing result of below kusto query"
   ]
  },
  {
   "cell_type": "code",
   "execution_count": null,
   "metadata": {},
   "outputs": [],
   "source": [
    "days=0\n",
    "ex_days=int(total_days)%5\n",
    "remain_days=int(total_days)\n",
    "i=5\n",
    "startdays=0\n",
    "while days < int(total_days):\n",
    "    print(\"inside for loop \"+str(days)+\"d , adding\"+str(i)+\"d\")\n",
    "    try:\n",
    "        startdays=int(total_days) if int(total_days)<5 else days+i\n",
    "        enddays=days\n",
    "        br_query=f\"\"\"\n",
    "        set notruncation;\n",
    "        set query_optimization_costbased_enabled;\n",
    "        let StartDate = ago({startdays}d);\n",
    "        let EndDate =ago({enddays}d);\n",
    "        let tenant_set=datatable(TenantId:string)[{TenantId}];\n",
    "        let Brow_ids=pack_array(\"\");\n",
    "        let Query=(clusterName:string) {{\n",
    "            cluster(clusterName).database(\"ESTS\").PerRequestTableIfx\n",
    "                | where env_time between (StartDate .. EndDate) \n",
    "                //| where BrowserId  in (Brow_ids)\n",
    "                | extend validLogin=iif( RamAuthenticationStatus == long(1), \"True\", iif(AuthType == 1 and AuthMethods > 0, \"True\", \"False\"))\n",
    "                | where validLogin==True\n",
    "                | where TenantId in (tenant_set)\n",
    "                |project BrowserId, TenantId,DomainName,UserPrincipalObjectID,ClientIp, RamAccountRiskRecommendedAction,RamSessionRiskRecommendedAction,PUID, UserAgent,validLogin  \n",
    "            }};\n",
    "        (Query(\"estsch1\")) | union (Query(\"estsby1\")),(Query(\"estssn1\")),(Query(\"estsbl2\")),(Query(\"estsam2\")),(Query(\"estsdb3\")),(Query(\"estshkn\")),(Query(\"estssin\")),(Query(\"estsause\")),(Query(\"estsdm1\")),(Query(\"estskrs\")),(Query(\"estswus2\"))\n",
    "        \"\"\"\n",
    "        #print(br_query)\n",
    "        %kql PT_frm << {br_query}\n",
    "        PT_frm = PT_frm.to_dataframe()\n",
    "        PT_frm.to_csv(\"browserid_list.csv\", mode='a',header=False,index=False)\n",
    "        remain_days=remain_days-days\n",
    "        days=days+5 \n",
    "        i=5 if remain_days%5 == 0 else ex_days\n",
    "    except Exception as ex:\n",
    "        print(\"exception\",ex)"
   ]
  },
  {
   "cell_type": "code",
   "execution_count": null,
   "metadata": {},
   "outputs": [],
   "source": [
    "import json\n",
    "br_data = pd.read_csv(\"browserid_list.csv\")\n",
    "br_data=br_data.drop_duplicates(subset=None, keep='first', inplace=False)\n",
    "br_data.columns = [\"browser id\", \"TenantId\",\"DomainName\",\"UserPrincipalObjectID\",\"ClientIp\",\"RamAccountRiskRecommendedAction\",\"RamSessionRiskRecommendedAction\",\"PUID\",\"UserAgent\",\"validLogin\"]\n",
    "first_br_list=ip_list=list(dict.fromkeys(br_data['browser id']))\n",
    "first_br_list"
   ]
  },
  {
   "cell_type": "markdown",
   "metadata": {},
   "source": [
    "This step for finding associated tenant with browser id which found from above kusto query"
   ]
  },
  {
   "cell_type": "code",
   "execution_count": null,
   "metadata": {},
   "outputs": [],
   "source": [
    "days=0\n",
    "ex_days=int(total_days)%5\n",
    "remain_days=int(total_days)\n",
    "i=5\n",
    "startdays=0\n",
    "while days < int(total_days):\n",
    "    print(\"inside for loop \"+str(days)+\"d , adding\"+str(i)+\"d\")\n",
    "    try:\n",
    "        startdays=int(total_days) if int(total_days)<5 else days+i\n",
    "        enddays=days\n",
    "        br_query=f\"\"\"\n",
    "        set notruncation;\n",
    "        set query_optimization_costbased_enabled;\n",
    "        let StartDate = ago({startdays}d);\n",
    "        let EndDate =ago({enddays}d);\n",
    "        let tenant_set=datatable(TenantId:string)[{TenantId}];\n",
    "        let Brow_ids=datatable(BrowserId:string){first_br_list};\n",
    "        let Query=(clusterName:string) {{\n",
    "            cluster(clusterName).database(\"ESTS\").PerRequestTableIfx\n",
    "                |where env_time between (StartDate .. EndDate) \n",
    "                |extend validLogin=iif( RamAuthenticationStatus == long(1), \"True\", iif(AuthType == 1 and AuthMethods > 0, \"True\", \"False\"))\n",
    "                //|where validLogin==True\n",
    "                |where TenantId !in (tenant_set)\n",
    "                //|where isnotempty(BrowserId)\n",
    "                |where BrowserId in (Brow_ids)\n",
    "                |where isnotempty(TenantId)\n",
    "                |distinct BrowserId,TenantId,DomainName,UserPrincipalObjectID,ClientIp, RamAccountRiskRecommendedAction,RamSessionRiskRecommendedAction,PUID, UserAgent,validLogin\n",
    "            }};\n",
    "        (Query(\"estsch1\")) | union (Query(\"estsby1\")),(Query(\"estssn1\")),(Query(\"estsbl2\")),(Query(\"estsam2\")),(Query(\"estsdb3\")),(Query(\"estshkn\")),(Query(\"estssin\")),(Query(\"estsause\")),(Query(\"estsdm1\")),(Query(\"estskrs\")),(Query(\"estswus2\"))\n",
    "        \"\"\"\n",
    "        #print(br_query)\n",
    "        %kql PT_frm << {br_query}\n",
    "        PT_frm = PT_frm.to_dataframe()\n",
    "        PT_frm.to_csv(\"tenantid_list.csv\", mode='a',header=False,index=False)\n",
    "        remain_days=remain_days-days\n",
    "        days=days+5 \n",
    "        i=5 if remain_days%5 == 0 else ex_days\n",
    "    except Exception as ex:\n",
    "        print(\"exception\",ex)"
   ]
  },
  {
   "cell_type": "code",
   "execution_count": null,
   "metadata": {},
   "outputs": [],
   "source": [
    "te_data = pd.read_csv(\"tenantid_list.csv\")\n",
    "te_data=te_data.drop_duplicates(subset=None, keep='first', inplace=False)\n",
    "te_data.columns = ['BrowserId','TenantId','DomainName','UserPrincipalObjectID','ClientIp', 'RamAccountRiskRecommendedAction','RamSessionRiskRecommendedAction','PUID', 'UserAgent','validLogin']"
   ]
  },
  {
   "cell_type": "code",
   "execution_count": null,
   "metadata": {},
   "outputs": [],
   "source": [
    "te_data.to_csv(\"tenantid_list.csv\") ## this is Tenant list where we need to perform Real/Fake tenant analysis "
   ]
  },
  {
   "cell_type": "markdown",
   "metadata": {},
   "source": [
    "#### \"tenantid_list.csv\" is Tenant list where we need to perform Real/Fake tenant analysis "
   ]
  },
  {
   "cell_type": "markdown",
   "metadata": {},
   "source": [
    "### [Under-Development] Move Integration of Neo-4j to Azure notebook"
   ]
  }
 ],
 "metadata": {
  "kernelspec": {
   "display_name": "Python 3",
   "language": "python",
   "name": "python3"
  },
  "language_info": {
   "codemirror_mode": {
    "name": "ipython",
    "version": 3
   },
   "file_extension": ".py",
   "mimetype": "text/x-python",
   "name": "python",
   "nbconvert_exporter": "python",
   "pygments_lexer": "ipython3",
   "version": "3.7.6"
  }
 },
 "nbformat": 4,
 "nbformat_minor": 2
}
